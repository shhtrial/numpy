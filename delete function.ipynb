{
 "cells": [
  {
   "cell_type": "code",
   "execution_count": 27,
   "id": "405cec3e",
   "metadata": {},
   "outputs": [],
   "source": [
    "#delete function (del)\n",
    "#deletes a variable\n",
    "a=45\n",
    "b=4\n",
    "del a\n"
   ]
  },
  {
   "cell_type": "code",
   "execution_count": 31,
   "id": "ac4a9100",
   "metadata": {},
   "outputs": [],
   "source": [
    "#deletes an object\n",
    "class couch:\n",
    "    typee=\"luxury\"\n",
    "del couch"
   ]
  },
  {
   "cell_type": "code",
   "execution_count": 35,
   "id": "8cfc1b19",
   "metadata": {},
   "outputs": [
    {
     "name": "stdout",
     "output_type": "stream",
     "text": [
      "[2, 3, 5]\n"
     ]
    }
   ],
   "source": [
    "#deletes an item from list using indexing or positioning:-\n",
    "a=[2,3,4,5]\n",
    "del a[2]\n",
    "print(a)"
   ]
  },
  {
   "cell_type": "code",
   "execution_count": 38,
   "id": "cd708373",
   "metadata": {},
   "outputs": [
    {
     "name": "stdout",
     "output_type": "stream",
     "text": [
      "[2, 4, 5]\n"
     ]
    }
   ],
   "source": [
    "#remove:-It  doesnot require indexing ,removes directly the number:-\n",
    "a=[2,3,4,5]\n",
    "a.remove(3)\n",
    "print(a)"
   ]
  },
  {
   "cell_type": "code",
   "execution_count": 45,
   "id": "6b859f48",
   "metadata": {},
   "outputs": [
    {
     "name": "stdout",
     "output_type": "stream",
     "text": [
      "hello\n"
     ]
    }
   ],
   "source": [
    "print(\"hello\")\n",
    "    "
   ]
  },
  {
   "cell_type": "code",
   "execution_count": 3,
   "id": "0b2277f1",
   "metadata": {},
   "outputs": [
    {
     "name": "stdout",
     "output_type": "stream",
     "text": [
      "enter the name:naman\n",
      "naman\n",
      "p\n"
     ]
    }
   ],
   "source": [
    "a=input(\"enter the name:\")\n",
    "#print(a)\n",
    "b=\"\"\n",
    "for i in a:\n",
    "    b=i+b\n",
    "print(b)\n",
    "\n",
    "if b==a:\n",
    "    print(\"p\")\n",
    "else:\n",
    "    print(\"NP\")\n",
    "\n",
    "     \n",
    "   "
   ]
  },
  {
   "cell_type": "code",
   "execution_count": null,
   "id": "ec849646",
   "metadata": {},
   "outputs": [],
   "source": []
  }
 ],
 "metadata": {
  "kernelspec": {
   "display_name": "Python 3 (ipykernel)",
   "language": "python",
   "name": "python3"
  },
  "language_info": {
   "codemirror_mode": {
    "name": "ipython",
    "version": 3
   },
   "file_extension": ".py",
   "mimetype": "text/x-python",
   "name": "python",
   "nbconvert_exporter": "python",
   "pygments_lexer": "ipython3",
   "version": "3.9.12"
  }
 },
 "nbformat": 4,
 "nbformat_minor": 5
}
